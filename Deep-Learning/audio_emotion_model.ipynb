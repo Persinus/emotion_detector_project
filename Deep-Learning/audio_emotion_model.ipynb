{
 "cells": [
  {
   "cell_type": "markdown",
   "metadata": {
    "id": "7oA16pMxXZNP"
   },
   "source": [
    "Mount gg Drive\n"
   ]
  },
  {
   "cell_type": "code",
   "execution_count": 1,
   "metadata": {
    "colab": {
     "base_uri": "https://localhost:8080/"
    },
    "executionInfo": {
     "elapsed": 1504,
     "status": "ok",
     "timestamp": 1747224934594,
     "user": {
      "displayName": "mạnh nguyễn",
      "userId": "03337544810660579076"
     },
     "user_tz": -420
    },
    "id": "sHvoi2e2WVxq",
    "outputId": "0affb079-6c58-4177-a9b4-75e845e55cd2"
   },
   "outputs": [
    {
     "name": "stdout",
     "output_type": "stream",
     "text": [
      "Drive already mounted at /content/drive; to attempt to forcibly remount, call drive.mount(\"/content/drive\", force_remount=True).\n"
     ]
    }
   ],
   "source": [
    "from google.colab import drive\n",
    "drive.mount('/content/drive')"
   ]
  },
  {
   "cell_type": "code",
   "execution_count": null,
   "metadata": {
    "colab": {
     "base_uri": "https://localhost:8080/"
    },
    "executionInfo": {
     "elapsed": 1694,
     "status": "ok",
     "timestamp": 1746988306016,
     "user": {
      "displayName": "mạnh nguyễn",
      "userId": "03337544810660579076"
     },
     "user_tz": -420
    },
    "id": "N3XwLurCdxAr",
    "outputId": "8c097df8-2523-47e2-c4fc-5a0ee9888f18"
   },
   "outputs": [
    {
     "name": "stdout",
     "output_type": "stream",
     "text": [
      "Files in Colab Notebooks:\n",
      "['Dataset', 'multimodal_emotion_model.ipynb']\n"
     ]
    }
   ],
   "source": [
    "import os\n",
    "colab_notebooks_path = '/content/drive/MyDrive/Colab Notebooks'\n",
    "\n",
    "# Liệt kê nội dung trong thư mục\n",
    "if os.path.exists(colab_notebooks_path):\n",
    "    print(\"Files in Colab Notebooks:\")\n",
    "    print(os.listdir(colab_notebooks_path))\n",
    "else:\n",
    "    print(\"Colab Notebooks folder does not exist.\")\n"
   ]
  },
  {
   "cell_type": "markdown",
   "metadata": {
    "id": "kxrl0ON1XhHl"
   },
   "source": []
  },
  {
   "cell_type": "code",
   "execution_count": null,
   "metadata": {
    "colab": {
     "base_uri": "https://localhost:8080/"
    },
    "executionInfo": {
     "elapsed": 449,
     "status": "ok",
     "timestamp": 1746988306479,
     "user": {
      "displayName": "mạnh nguyễn",
      "userId": "03337544810660579076"
     },
     "user_tz": -420
    },
    "id": "CeW1lkF9fFzq",
    "outputId": "3ad356d3-a06a-41b8-bb71-c1686eccbec9"
   },
   "outputs": [
    {
     "name": "stdout",
     "output_type": "stream",
     "text": [
      "['Test-FER2013', 'Test-RAVDESS', 'Train-RAVDESS', 'Train-FER2013']\n"
     ]
    }
   ],
   "source": [
    "import os\n",
    "print(os.listdir('/content/drive/MyDrive/Colab Notebooks/Dataset'))\n"
   ]
  },
  {
   "cell_type": "code",
   "execution_count": null,
   "metadata": {
    "id": "KEJJPR4nSWzf"
   },
   "outputs": [],
   "source": [
    "import os\n",
    "\n",
    "# Correct the path to your training data directory\n",
    "train_path = '/content/drive/MyDrive/Colab Notebooks/Dataset/Train-FER2013' # Changed the path to the correct location\n",
    "\n",
    "print( os.listdir(train_path))"
   ]
  },
  {
   "cell_type": "code",
   "execution_count": null,
   "metadata": {
    "id": "65nowI6EVOT4"
   },
   "outputs": [],
   "source": []
  },
  {
   "cell_type": "markdown",
   "metadata": {
    "id": "aHtr8uZ08gjA"
   },
   "source": [
    "# Mục mới"
   ]
  },
  {
   "cell_type": "code",
   "execution_count": null,
   "metadata": {
    "id": "vI__QxUxs8of"
   },
   "outputs": [],
   "source": [
    "import os\n",
    "\n",
    "# Correct the path to your training data directory\n",
    "train_path = '/content/drive/MyDrive/Colab Notebooks/Dataset/Train-FER2013' # Changed the path to the correct location\n",
    "\n",
    "print( os.listdir(train_path))"
   ]
  },
  {
   "cell_type": "code",
   "execution_count": null,
   "metadata": {
    "id": "t8kC1A-SsvNw"
   },
   "outputs": [],
   "source": [
    "import os\n",
    "\n",
    "# Correct the path to your training data directory\n",
    "train_path = '/content/drive/MyDrive/Colab Notebooks/Dataset/Train-FER2013' # Changed the path to the correct location\n",
    "\n",
    "print( os.listdir(train_path))"
   ]
  },
  {
   "cell_type": "code",
   "execution_count": 2,
   "metadata": {
    "colab": {
     "base_uri": "https://localhost:8080/"
    },
    "executionInfo": {
     "elapsed": 9825,
     "status": "ok",
     "timestamp": 1747224953520,
     "user": {
      "displayName": "mạnh nguyễn",
      "userId": "03337544810660579076"
     },
     "user_tz": -420
    },
    "id": "yWz6GkoUq1QV",
    "outputId": "e094242d-fe46-425d-9c85-e1513d7f14b7"
   },
   "outputs": [
    {
     "name": "stdout",
     "output_type": "stream",
     "text": [
      "2.12.0\n"
     ]
    }
   ],
   "source": [
    "import tensorflow as tf\n",
    "print(tf.__version__)"
   ]
  },
  {
   "cell_type": "code",
   "execution_count": 4,
   "metadata": {
    "colab": {
     "base_uri": "https://localhost:8080/",
     "height": 17
    },
    "executionInfo": {
     "elapsed": 46,
     "status": "ok",
     "timestamp": 1747228918984,
     "user": {
      "displayName": "mạnh nguyễn",
      "userId": "03337544810660579076"
     },
     "user_tz": -420
    },
    "id": "RcTEbF429W6o",
    "outputId": "fd6071d5-c4f3-472d-dbbf-688586af0c52"
   },
   "outputs": [
    {
     "data": {
      "application/javascript": "\n    async function download(id, filename, size) {\n      if (!google.colab.kernel.accessAllowed) {\n        return;\n      }\n      const div = document.createElement('div');\n      const label = document.createElement('label');\n      label.textContent = `Downloading \"${filename}\": `;\n      div.appendChild(label);\n      const progress = document.createElement('progress');\n      progress.max = size;\n      div.appendChild(progress);\n      document.body.appendChild(div);\n\n      const buffers = [];\n      let downloaded = 0;\n\n      const channel = await google.colab.kernel.comms.open(id);\n      // Send a message to notify the kernel that we're ready.\n      channel.send({})\n\n      for await (const message of channel.messages) {\n        // Send a message to notify the kernel that we're ready.\n        channel.send({})\n        if (message.buffers) {\n          for (const buffer of message.buffers) {\n            buffers.push(buffer);\n            downloaded += buffer.byteLength;\n            progress.value = downloaded;\n          }\n        }\n      }\n      const blob = new Blob(buffers, {type: 'application/binary'});\n      const a = document.createElement('a');\n      a.href = window.URL.createObjectURL(blob);\n      a.download = filename;\n      div.appendChild(a);\n      a.click();\n      div.remove();\n    }\n  ",
      "text/plain": [
       "<IPython.core.display.Javascript object>"
      ]
     },
     "metadata": {},
     "output_type": "display_data"
    },
    {
     "data": {
      "application/javascript": "download(\"download_f47fcc00-36cf-4128-b201-e171b22f23d3\", \"emotion_audio_model.keras\", 23875736)",
      "text/plain": [
       "<IPython.core.display.Javascript object>"
      ]
     },
     "metadata": {},
     "output_type": "display_data"
    }
   ],
   "source": [
    "from google.colab import files\n",
    "files.download('emotion_audio_model.keras')"
   ]
  },
  {
   "cell_type": "code",
   "execution_count": 4,
   "metadata": {
    "colab": {
     "base_uri": "https://localhost:8080/"
    },
    "executionInfo": {
     "elapsed": 18187,
     "status": "ok",
     "timestamp": 1747224839194,
     "user": {
      "displayName": "mạnh nguyễn",
      "userId": "03337544810660579076"
     },
     "user_tz": -420
    },
    "id": "opTMI9Uhq7Cr",
    "outputId": "9f759611-b2ba-4b1a-e647-5c9d27f1fc85"
   },
   "outputs": [
    {
     "name": "stdout",
     "output_type": "stream",
     "text": [
      "Found existing installation: tensorflow 2.18.0\n",
      "Uninstalling tensorflow-2.18.0:\n",
      "  Successfully uninstalled tensorflow-2.18.0\n"
     ]
    }
   ],
   "source": [
    "!pip uninstall -y tensorflow"
   ]
  },
  {
   "cell_type": "code",
   "execution_count": 6,
   "metadata": {
    "colab": {
     "base_uri": "https://localhost:8080/",
     "height": 1000
    },
    "executionInfo": {
     "elapsed": 67001,
     "status": "ok",
     "timestamp": 1747224912132,
     "user": {
      "displayName": "mạnh nguyễn",
      "userId": "03337544810660579076"
     },
     "user_tz": -420
    },
    "id": "FAyWaMjEq_FD",
    "outputId": "f8b7460f-39fa-48c4-9ab2-70cf76bcec7f"
   },
   "outputs": [
    {
     "name": "stdout",
     "output_type": "stream",
     "text": [
      "Collecting tensorflow==2.12.0\n",
      "  Using cached tensorflow-2.12.0-cp311-cp311-manylinux_2_17_x86_64.manylinux2014_x86_64.whl.metadata (3.4 kB)\n",
      "Requirement already satisfied: absl-py>=1.0.0 in /usr/local/lib/python3.11/dist-packages (from tensorflow==2.12.0) (1.4.0)\n",
      "Requirement already satisfied: astunparse>=1.6.0 in /usr/local/lib/python3.11/dist-packages (from tensorflow==2.12.0) (1.6.3)\n",
      "Requirement already satisfied: flatbuffers>=2.0 in /usr/local/lib/python3.11/dist-packages (from tensorflow==2.12.0) (25.2.10)\n",
      "Collecting gast<=0.4.0,>=0.2.1 (from tensorflow==2.12.0)\n",
      "  Using cached gast-0.4.0-py3-none-any.whl.metadata (1.1 kB)\n",
      "Requirement already satisfied: google-pasta>=0.1.1 in /usr/local/lib/python3.11/dist-packages (from tensorflow==2.12.0) (0.2.0)\n",
      "Requirement already satisfied: grpcio<2.0,>=1.24.3 in /usr/local/lib/python3.11/dist-packages (from tensorflow==2.12.0) (1.71.0)\n",
      "Requirement already satisfied: h5py>=2.9.0 in /usr/local/lib/python3.11/dist-packages (from tensorflow==2.12.0) (3.13.0)\n",
      "Requirement already satisfied: jax>=0.3.15 in /usr/local/lib/python3.11/dist-packages (from tensorflow==2.12.0) (0.5.2)\n",
      "Collecting keras<2.13,>=2.12.0 (from tensorflow==2.12.0)\n",
      "  Using cached keras-2.12.0-py2.py3-none-any.whl.metadata (1.4 kB)\n",
      "Requirement already satisfied: libclang>=13.0.0 in /usr/local/lib/python3.11/dist-packages (from tensorflow==2.12.0) (18.1.1)\n",
      "Collecting numpy<1.24,>=1.22 (from tensorflow==2.12.0)\n",
      "  Downloading numpy-1.23.5-cp311-cp311-manylinux_2_17_x86_64.manylinux2014_x86_64.whl.metadata (2.3 kB)\n",
      "Requirement already satisfied: opt-einsum>=2.3.2 in /usr/local/lib/python3.11/dist-packages (from tensorflow==2.12.0) (3.4.0)\n",
      "Requirement already satisfied: packaging in /usr/local/lib/python3.11/dist-packages (from tensorflow==2.12.0) (24.2)\n",
      "Collecting protobuf!=4.21.0,!=4.21.1,!=4.21.2,!=4.21.3,!=4.21.4,!=4.21.5,<5.0.0dev,>=3.20.3 (from tensorflow==2.12.0)\n",
      "  Downloading protobuf-4.25.7-cp37-abi3-manylinux2014_x86_64.whl.metadata (541 bytes)\n",
      "Requirement already satisfied: setuptools in /usr/local/lib/python3.11/dist-packages (from tensorflow==2.12.0) (75.2.0)\n",
      "Requirement already satisfied: six>=1.12.0 in /usr/local/lib/python3.11/dist-packages (from tensorflow==2.12.0) (1.17.0)\n",
      "Collecting tensorboard<2.13,>=2.12 (from tensorflow==2.12.0)\n",
      "  Downloading tensorboard-2.12.3-py3-none-any.whl.metadata (1.8 kB)\n",
      "Collecting tensorflow-estimator<2.13,>=2.12.0 (from tensorflow==2.12.0)\n",
      "  Downloading tensorflow_estimator-2.12.0-py2.py3-none-any.whl.metadata (1.3 kB)\n",
      "Requirement already satisfied: termcolor>=1.1.0 in /usr/local/lib/python3.11/dist-packages (from tensorflow==2.12.0) (3.1.0)\n",
      "Requirement already satisfied: typing-extensions>=3.6.6 in /usr/local/lib/python3.11/dist-packages (from tensorflow==2.12.0) (4.13.2)\n",
      "Collecting wrapt<1.15,>=1.11.0 (from tensorflow==2.12.0)\n",
      "  Downloading wrapt-1.14.1-cp311-cp311-manylinux_2_5_x86_64.manylinux1_x86_64.manylinux_2_17_x86_64.manylinux2014_x86_64.whl.metadata (6.7 kB)\n",
      "Requirement already satisfied: tensorflow-io-gcs-filesystem>=0.23.1 in /usr/local/lib/python3.11/dist-packages (from tensorflow==2.12.0) (0.37.1)\n",
      "Requirement already satisfied: wheel<1.0,>=0.23.0 in /usr/local/lib/python3.11/dist-packages (from astunparse>=1.6.0->tensorflow==2.12.0) (0.45.1)\n",
      "Requirement already satisfied: jaxlib<=0.5.2,>=0.5.1 in /usr/local/lib/python3.11/dist-packages (from jax>=0.3.15->tensorflow==2.12.0) (0.5.1)\n",
      "Requirement already satisfied: ml_dtypes>=0.4.0 in /usr/local/lib/python3.11/dist-packages (from jax>=0.3.15->tensorflow==2.12.0) (0.4.1)\n",
      "INFO: pip is looking at multiple versions of jax to determine which version is compatible with other requirements. This could take a while.\n",
      "Collecting jax>=0.3.15 (from tensorflow==2.12.0)\n",
      "  Downloading jax-0.6.0-py3-none-any.whl.metadata (22 kB)\n",
      "Collecting jaxlib<=0.6.0,>=0.6.0 (from jax>=0.3.15->tensorflow==2.12.0)\n",
      "  Downloading jaxlib-0.6.0-cp311-cp311-manylinux2014_x86_64.whl.metadata (1.2 kB)\n",
      "Collecting ml_dtypes>=0.5.0 (from jax>=0.3.15->tensorflow==2.12.0)\n",
      "  Downloading ml_dtypes-0.5.1-cp311-cp311-manylinux_2_17_x86_64.manylinux2014_x86_64.whl.metadata (21 kB)\n",
      "Collecting jax>=0.3.15 (from tensorflow==2.12.0)\n",
      "  Downloading jax-0.5.3-py3-none-any.whl.metadata (22 kB)\n",
      "Collecting jaxlib<=0.5.3,>=0.5.3 (from jax>=0.3.15->tensorflow==2.12.0)\n",
      "  Downloading jaxlib-0.5.3-cp311-cp311-manylinux2014_x86_64.whl.metadata (1.2 kB)\n",
      "Collecting jax>=0.3.15 (from tensorflow==2.12.0)\n",
      "  Downloading jax-0.5.1-py3-none-any.whl.metadata (22 kB)\n",
      "  Downloading jax-0.5.0-py3-none-any.whl.metadata (22 kB)\n",
      "Collecting jaxlib<=0.5.0,>=0.5.0 (from jax>=0.3.15->tensorflow==2.12.0)\n",
      "  Downloading jaxlib-0.5.0-cp311-cp311-manylinux2014_x86_64.whl.metadata (978 bytes)\n",
      "Collecting jax>=0.3.15 (from tensorflow==2.12.0)\n",
      "  Downloading jax-0.4.38-py3-none-any.whl.metadata (22 kB)\n",
      "Collecting jaxlib<=0.4.38,>=0.4.38 (from jax>=0.3.15->tensorflow==2.12.0)\n",
      "  Downloading jaxlib-0.4.38-cp311-cp311-manylinux2014_x86_64.whl.metadata (1.0 kB)\n",
      "Collecting jax>=0.3.15 (from tensorflow==2.12.0)\n",
      "  Downloading jax-0.4.37-py3-none-any.whl.metadata (22 kB)\n",
      "Collecting jaxlib<=0.4.37,>=0.4.36 (from jax>=0.3.15->tensorflow==2.12.0)\n",
      "  Downloading jaxlib-0.4.36-cp311-cp311-manylinux2014_x86_64.whl.metadata (1.0 kB)\n",
      "Collecting jax>=0.3.15 (from tensorflow==2.12.0)\n",
      "  Downloading jax-0.4.36-py3-none-any.whl.metadata (22 kB)\n",
      "INFO: pip is still looking at multiple versions of jax to determine which version is compatible with other requirements. This could take a while.\n",
      "  Downloading jax-0.4.35-py3-none-any.whl.metadata (22 kB)\n",
      "Collecting jaxlib<=0.4.35,>=0.4.34 (from jax>=0.3.15->tensorflow==2.12.0)\n",
      "  Downloading jaxlib-0.4.35-cp311-cp311-manylinux2014_x86_64.whl.metadata (983 bytes)\n",
      "Collecting jax>=0.3.15 (from tensorflow==2.12.0)\n",
      "  Downloading jax-0.4.34-py3-none-any.whl.metadata (22 kB)\n",
      "Collecting jaxlib<=0.4.34,>=0.4.34 (from jax>=0.3.15->tensorflow==2.12.0)\n",
      "  Downloading jaxlib-0.4.34-cp311-cp311-manylinux2014_x86_64.whl.metadata (983 bytes)\n",
      "Collecting jax>=0.3.15 (from tensorflow==2.12.0)\n",
      "  Downloading jax-0.4.33-py3-none-any.whl.metadata (22 kB)\n",
      "Collecting jaxlib<=0.4.33,>=0.4.33 (from jax>=0.3.15->tensorflow==2.12.0)\n",
      "  Downloading jaxlib-0.4.33-cp311-cp311-manylinux2014_x86_64.whl.metadata (983 bytes)\n",
      "Collecting jax>=0.3.15 (from tensorflow==2.12.0)\n",
      "  Downloading jax-0.4.31-py3-none-any.whl.metadata (22 kB)\n",
      "Collecting jaxlib<=0.4.31,>=0.4.30 (from jax>=0.3.15->tensorflow==2.12.0)\n",
      "  Downloading jaxlib-0.4.31-cp311-cp311-manylinux2014_x86_64.whl.metadata (983 bytes)\n",
      "Collecting jax>=0.3.15 (from tensorflow==2.12.0)\n",
      "  Downloading jax-0.4.30-py3-none-any.whl.metadata (22 kB)\n",
      "Collecting jaxlib<=0.4.30,>=0.4.27 (from jax>=0.3.15->tensorflow==2.12.0)\n",
      "  Downloading jaxlib-0.4.30-cp311-cp311-manylinux2014_x86_64.whl.metadata (1.0 kB)\n",
      "Requirement already satisfied: scipy>=1.9 in /usr/local/lib/python3.11/dist-packages (from jax>=0.3.15->tensorflow==2.12.0) (1.15.3)\n",
      "Requirement already satisfied: google-auth<3,>=1.6.3 in /usr/local/lib/python3.11/dist-packages (from tensorboard<2.13,>=2.12->tensorflow==2.12.0) (2.38.0)\n",
      "Collecting google-auth-oauthlib<1.1,>=0.5 (from tensorboard<2.13,>=2.12->tensorflow==2.12.0)\n",
      "  Downloading google_auth_oauthlib-1.0.0-py2.py3-none-any.whl.metadata (2.7 kB)\n",
      "Requirement already satisfied: markdown>=2.6.8 in /usr/local/lib/python3.11/dist-packages (from tensorboard<2.13,>=2.12->tensorflow==2.12.0) (3.8)\n",
      "Requirement already satisfied: requests<3,>=2.21.0 in /usr/local/lib/python3.11/dist-packages (from tensorboard<2.13,>=2.12->tensorflow==2.12.0) (2.32.3)\n",
      "Requirement already satisfied: tensorboard-data-server<0.8.0,>=0.7.0 in /usr/local/lib/python3.11/dist-packages (from tensorboard<2.13,>=2.12->tensorflow==2.12.0) (0.7.2)\n",
      "Requirement already satisfied: werkzeug>=1.0.1 in /usr/local/lib/python3.11/dist-packages (from tensorboard<2.13,>=2.12->tensorflow==2.12.0) (3.1.3)\n",
      "Requirement already satisfied: cachetools<6.0,>=2.0.0 in /usr/local/lib/python3.11/dist-packages (from google-auth<3,>=1.6.3->tensorboard<2.13,>=2.12->tensorflow==2.12.0) (5.5.2)\n",
      "Requirement already satisfied: pyasn1-modules>=0.2.1 in /usr/local/lib/python3.11/dist-packages (from google-auth<3,>=1.6.3->tensorboard<2.13,>=2.12->tensorflow==2.12.0) (0.4.2)\n",
      "Requirement already satisfied: rsa<5,>=3.1.4 in /usr/local/lib/python3.11/dist-packages (from google-auth<3,>=1.6.3->tensorboard<2.13,>=2.12->tensorflow==2.12.0) (4.9.1)\n",
      "Requirement already satisfied: requests-oauthlib>=0.7.0 in /usr/local/lib/python3.11/dist-packages (from google-auth-oauthlib<1.1,>=0.5->tensorboard<2.13,>=2.12->tensorflow==2.12.0) (2.0.0)\n",
      "Requirement already satisfied: charset-normalizer<4,>=2 in /usr/local/lib/python3.11/dist-packages (from requests<3,>=2.21.0->tensorboard<2.13,>=2.12->tensorflow==2.12.0) (3.4.2)\n",
      "Requirement already satisfied: idna<4,>=2.5 in /usr/local/lib/python3.11/dist-packages (from requests<3,>=2.21.0->tensorboard<2.13,>=2.12->tensorflow==2.12.0) (3.10)\n",
      "Requirement already satisfied: urllib3<3,>=1.21.1 in /usr/local/lib/python3.11/dist-packages (from requests<3,>=2.21.0->tensorboard<2.13,>=2.12->tensorflow==2.12.0) (2.4.0)\n",
      "Requirement already satisfied: certifi>=2017.4.17 in /usr/local/lib/python3.11/dist-packages (from requests<3,>=2.21.0->tensorboard<2.13,>=2.12->tensorflow==2.12.0) (2025.4.26)\n",
      "Requirement already satisfied: MarkupSafe>=2.1.1 in /usr/local/lib/python3.11/dist-packages (from werkzeug>=1.0.1->tensorboard<2.13,>=2.12->tensorflow==2.12.0) (3.0.2)\n",
      "Requirement already satisfied: pyasn1<0.7.0,>=0.6.1 in /usr/local/lib/python3.11/dist-packages (from pyasn1-modules>=0.2.1->google-auth<3,>=1.6.3->tensorboard<2.13,>=2.12->tensorflow==2.12.0) (0.6.1)\n",
      "Requirement already satisfied: oauthlib>=3.0.0 in /usr/local/lib/python3.11/dist-packages (from requests-oauthlib>=0.7.0->google-auth-oauthlib<1.1,>=0.5->tensorboard<2.13,>=2.12->tensorflow==2.12.0) (3.2.2)\n",
      "Downloading tensorflow-2.12.0-cp311-cp311-manylinux_2_17_x86_64.manylinux2014_x86_64.whl (586.0 MB)\n",
      "\u001b[2K   \u001b[90m━━━━━━━━━━━━━━━━━━━━━━━━━━━━━━━━━━━━━━━━\u001b[0m \u001b[32m586.0/586.0 MB\u001b[0m \u001b[31m3.9 MB/s\u001b[0m eta \u001b[36m0:00:00\u001b[0m\n",
      "\u001b[?25hDownloading gast-0.4.0-py3-none-any.whl (9.8 kB)\n",
      "Downloading jax-0.4.30-py3-none-any.whl (2.0 MB)\n",
      "\u001b[2K   \u001b[90m━━━━━━━━━━━━━━━━━━━━━━━━━━━━━━━━━━━━━━━━\u001b[0m \u001b[32m2.0/2.0 MB\u001b[0m \u001b[31m22.2 MB/s\u001b[0m eta \u001b[36m0:00:00\u001b[0m\n",
      "\u001b[?25hDownloading keras-2.12.0-py2.py3-none-any.whl (1.7 MB)\n",
      "\u001b[2K   \u001b[90m━━━━━━━━━━━━━━━━━━━━━━━━━━━━━━━━━━━━━━━━\u001b[0m \u001b[32m1.7/1.7 MB\u001b[0m \u001b[31m19.6 MB/s\u001b[0m eta \u001b[36m0:00:00\u001b[0m\n",
      "\u001b[?25hDownloading numpy-1.23.5-cp311-cp311-manylinux_2_17_x86_64.manylinux2014_x86_64.whl (17.1 MB)\n",
      "\u001b[2K   \u001b[90m━━━━━━━━━━━━━━━━━━━━━━━━━━━━━━━━━━━━━━━━\u001b[0m \u001b[32m17.1/17.1 MB\u001b[0m \u001b[31m102.0 MB/s\u001b[0m eta \u001b[36m0:00:00\u001b[0m\n",
      "\u001b[?25hDownloading protobuf-4.25.7-cp37-abi3-manylinux2014_x86_64.whl (294 kB)\n",
      "\u001b[2K   \u001b[90m━━━━━━━━━━━━━━━━━━━━━━━━━━━━━━━━━━━━━━━━\u001b[0m \u001b[32m294.6/294.6 kB\u001b[0m \u001b[31m26.9 MB/s\u001b[0m eta \u001b[36m0:00:00\u001b[0m\n",
      "\u001b[?25hDownloading tensorboard-2.12.3-py3-none-any.whl (5.6 MB)\n",
      "\u001b[2K   \u001b[90m━━━━━━━━━━━━━━━━━━━━━━━━━━━━━━━━━━━━━━━━\u001b[0m \u001b[32m5.6/5.6 MB\u001b[0m \u001b[31m125.4 MB/s\u001b[0m eta \u001b[36m0:00:00\u001b[0m\n",
      "\u001b[?25hDownloading tensorflow_estimator-2.12.0-py2.py3-none-any.whl (440 kB)\n",
      "\u001b[2K   \u001b[90m━━━━━━━━━━━━━━━━━━━━━━━━━━━━━━━━━━━━━━━━\u001b[0m \u001b[32m440.7/440.7 kB\u001b[0m \u001b[31m25.2 MB/s\u001b[0m eta \u001b[36m0:00:00\u001b[0m\n",
      "\u001b[?25hDownloading wrapt-1.14.1-cp311-cp311-manylinux_2_5_x86_64.manylinux1_x86_64.manylinux_2_17_x86_64.manylinux2014_x86_64.whl (78 kB)\n",
      "\u001b[2K   \u001b[90m━━━━━━━━━━━━━━━━━━━━━━━━━━━━━━━━━━━━━━━━\u001b[0m \u001b[32m78.4/78.4 kB\u001b[0m \u001b[31m8.5 MB/s\u001b[0m eta \u001b[36m0:00:00\u001b[0m\n",
      "\u001b[?25hDownloading google_auth_oauthlib-1.0.0-py2.py3-none-any.whl (18 kB)\n",
      "Downloading jaxlib-0.4.30-cp311-cp311-manylinux2014_x86_64.whl (79.6 MB)\n",
      "\u001b[2K   \u001b[90m━━━━━━━━━━━━━━━━━━━━━━━━━━━━━━━━━━━━━━━━\u001b[0m \u001b[32m79.6/79.6 MB\u001b[0m \u001b[31m9.9 MB/s\u001b[0m eta \u001b[36m0:00:00\u001b[0m\n",
      "\u001b[?25hInstalling collected packages: wrapt, tensorflow-estimator, protobuf, numpy, keras, gast, jaxlib, google-auth-oauthlib, tensorboard, jax, tensorflow\n",
      "  Attempting uninstall: wrapt\n",
      "    Found existing installation: wrapt 1.17.2\n",
      "    Uninstalling wrapt-1.17.2:\n",
      "      Successfully uninstalled wrapt-1.17.2\n",
      "  Attempting uninstall: protobuf\n",
      "    Found existing installation: protobuf 5.29.4\n",
      "    Uninstalling protobuf-5.29.4:\n",
      "      Successfully uninstalled protobuf-5.29.4\n",
      "  Attempting uninstall: numpy\n",
      "    Found existing installation: numpy 2.0.2\n",
      "    Uninstalling numpy-2.0.2:\n",
      "      Successfully uninstalled numpy-2.0.2\n",
      "  Attempting uninstall: keras\n",
      "    Found existing installation: keras 3.8.0\n",
      "    Uninstalling keras-3.8.0:\n",
      "      Successfully uninstalled keras-3.8.0\n",
      "  Attempting uninstall: gast\n",
      "    Found existing installation: gast 0.6.0\n",
      "    Uninstalling gast-0.6.0:\n",
      "      Successfully uninstalled gast-0.6.0\n",
      "  Attempting uninstall: jaxlib\n",
      "    Found existing installation: jaxlib 0.5.1\n",
      "    Uninstalling jaxlib-0.5.1:\n",
      "      Successfully uninstalled jaxlib-0.5.1\n",
      "  Attempting uninstall: google-auth-oauthlib\n",
      "    Found existing installation: google-auth-oauthlib 1.2.2\n",
      "    Uninstalling google-auth-oauthlib-1.2.2:\n",
      "      Successfully uninstalled google-auth-oauthlib-1.2.2\n",
      "  Attempting uninstall: tensorboard\n",
      "    Found existing installation: tensorboard 2.18.0\n",
      "    Uninstalling tensorboard-2.18.0:\n",
      "      Successfully uninstalled tensorboard-2.18.0\n",
      "  Attempting uninstall: jax\n",
      "    Found existing installation: jax 0.5.2\n",
      "    Uninstalling jax-0.5.2:\n",
      "      Successfully uninstalled jax-0.5.2\n",
      "\u001b[31mERROR: pip's dependency resolver does not currently take into account all the packages that are installed. This behaviour is the source of the following dependency conflicts.\n",
      "tensorflow-text 2.18.1 requires tensorflow<2.19,>=2.18.0, but you have tensorflow 2.12.0 which is incompatible.\n",
      "yfinance 0.2.59 requires protobuf<6,>=5.29.0, but you have protobuf 4.25.7 which is incompatible.\n",
      "thinc 8.3.6 requires numpy<3.0.0,>=2.0.0, but you have numpy 1.23.5 which is incompatible.\n",
      "bigframes 2.3.0 requires numpy>=1.24.0, but you have numpy 1.23.5 which is incompatible.\n",
      "albumentations 2.0.6 requires numpy>=1.24.4, but you have numpy 1.23.5 which is incompatible.\n",
      "chex 0.1.89 requires numpy>=1.24.1, but you have numpy 1.23.5 which is incompatible.\n",
      "scikit-image 0.25.2 requires numpy>=1.24, but you have numpy 1.23.5 which is incompatible.\n",
      "flax 0.10.6 requires jax>=0.5.1, but you have jax 0.4.30 which is incompatible.\n",
      "tf-keras 2.18.0 requires tensorflow<2.19,>=2.18, but you have tensorflow 2.12.0 which is incompatible.\n",
      "imbalanced-learn 0.13.0 requires numpy<3,>=1.24.3, but you have numpy 1.23.5 which is incompatible.\n",
      "orbax-checkpoint 0.11.13 requires jax>=0.5.0, but you have jax 0.4.30 which is incompatible.\n",
      "grpcio-status 1.71.0 requires protobuf<6.0dev,>=5.26.1, but you have protobuf 4.25.7 which is incompatible.\n",
      "tensorflow-decision-forests 1.11.0 requires tensorflow==2.18.0, but you have tensorflow 2.12.0 which is incompatible.\n",
      "xarray 2025.3.1 requires numpy>=1.24, but you have numpy 1.23.5 which is incompatible.\n",
      "blosc2 3.3.2 requires numpy>=1.26, but you have numpy 1.23.5 which is incompatible.\n",
      "albucore 0.0.24 requires numpy>=1.24.4, but you have numpy 1.23.5 which is incompatible.\n",
      "pymc 5.22.0 requires numpy>=1.25.0, but you have numpy 1.23.5 which is incompatible.\n",
      "treescope 0.1.9 requires numpy>=1.25.2, but you have numpy 1.23.5 which is incompatible.\n",
      "ydf 0.11.0 requires protobuf<6.0.0,>=5.29.1, but you have protobuf 4.25.7 which is incompatible.\u001b[0m\u001b[31m\n",
      "\u001b[0mSuccessfully installed gast-0.4.0 google-auth-oauthlib-1.0.0 jax-0.4.30 jaxlib-0.4.30 keras-2.12.0 numpy-1.23.5 protobuf-4.25.7 tensorboard-2.12.3 tensorflow-2.12.0 tensorflow-estimator-2.12.0 wrapt-1.14.1\n"
     ]
    },
    {
     "data": {
      "application/vnd.colab-display-data+json": {
       "id": "564f5adde76f4654927a4e90d3e5097e",
       "pip_warning": {
        "packages": [
         "gast",
         "jax",
         "jaxlib",
         "keras",
         "numpy",
         "tensorflow",
         "wrapt"
        ]
       }
      }
     },
     "metadata": {},
     "output_type": "display_data"
    }
   ],
   "source": [
    "!pip install tensorflow==2.12.0\n"
   ]
  },
  {
   "cell_type": "code",
   "execution_count": null,
   "metadata": {
    "colab": {
     "base_uri": "https://localhost:8080/",
     "height": 1000
    },
    "executionInfo": {
     "elapsed": 74606,
     "status": "ok",
     "timestamp": 1747228233441,
     "user": {
      "displayName": "mạnh nguyễn",
      "userId": "03337544810660579076"
     },
     "user_tz": -420
    },
    "id": "RsG3iXr08drA",
    "outputId": "2cbd72b5-9525-4a2f-d0c3-b96c6cbae7ea"
   },
   "outputs": [
    {
     "name": "stdout",
     "output_type": "stream",
     "text": [
      "Epoch 1/25\n",
      "100/100 [==============================] - 844s 9s/step - loss: 4.2228 - accuracy: 0.3575 - val_loss: 1.5481 - val_accuracy: 0.3562\n",
      "Epoch 2/25\n",
      "100/100 [==============================] - 117s 1s/step - loss: 0.5528 - accuracy: 0.8084 - val_loss: 2.6260 - val_accuracy: 0.3125\n",
      "Epoch 3/25\n",
      "100/100 [==============================] - 97s 977ms/step - loss: 0.1707 - accuracy: 0.9491 - val_loss: 3.1165 - val_accuracy: 0.3479\n",
      "Epoch 4/25\n",
      "100/100 [==============================] - 96s 971ms/step - loss: 0.0883 - accuracy: 0.9728 - val_loss: 3.5743 - val_accuracy: 0.3448\n",
      "Epoch 5/25\n",
      "100/100 [==============================] - 98s 992ms/step - loss: 0.0752 - accuracy: 0.9747 - val_loss: 2.9760 - val_accuracy: 0.3417\n",
      "Epoch 6/25\n",
      "100/100 [==============================] - 95s 958ms/step - loss: 0.0562 - accuracy: 0.9819 - val_loss: 4.6310 - val_accuracy: 0.3521\n",
      "Epoch 7/25\n",
      "100/100 [==============================] - 94s 945ms/step - loss: 0.0350 - accuracy: 0.9894 - val_loss: 3.5471 - val_accuracy: 0.3552\n",
      "Epoch 8/25\n",
      "100/100 [==============================] - 98s 983ms/step - loss: 0.0305 - accuracy: 0.9884 - val_loss: 4.6383 - val_accuracy: 0.3375\n",
      "Epoch 9/25\n",
      "100/100 [==============================] - 115s 1s/step - loss: 0.0291 - accuracy: 0.9906 - val_loss: 4.4220 - val_accuracy: 0.3583\n",
      "Epoch 10/25\n",
      "100/100 [==============================] - 98s 980ms/step - loss: 0.0268 - accuracy: 0.9916 - val_loss: 3.7645 - val_accuracy: 0.3042\n",
      "Epoch 11/25\n",
      "100/100 [==============================] - 99s 998ms/step - loss: 0.0267 - accuracy: 0.9928 - val_loss: 4.3484 - val_accuracy: 0.3760\n",
      "Epoch 12/25\n",
      "100/100 [==============================] - 98s 982ms/step - loss: 0.0286 - accuracy: 0.9903 - val_loss: 3.9987 - val_accuracy: 0.3781\n",
      "Epoch 13/25\n",
      "100/100 [==============================] - 96s 969ms/step - loss: 0.0378 - accuracy: 0.9859 - val_loss: 4.0564 - val_accuracy: 0.3677\n",
      "Epoch 14/25\n",
      "100/100 [==============================] - 98s 985ms/step - loss: 0.0195 - accuracy: 0.9944 - val_loss: 5.0256 - val_accuracy: 0.3760\n",
      "Epoch 15/25\n",
      "100/100 [==============================] - 96s 963ms/step - loss: 0.0251 - accuracy: 0.9928 - val_loss: 4.7662 - val_accuracy: 0.3333\n",
      "Epoch 16/25\n",
      "100/100 [==============================] - 96s 964ms/step - loss: 0.0144 - accuracy: 0.9953 - val_loss: 4.2986 - val_accuracy: 0.3896\n",
      "Epoch 17/25\n",
      "100/100 [==============================] - 99s 990ms/step - loss: 0.0139 - accuracy: 0.9959 - val_loss: 4.8086 - val_accuracy: 0.3542\n",
      "Epoch 18/25\n",
      "100/100 [==============================] - 97s 974ms/step - loss: 0.0080 - accuracy: 0.9975 - val_loss: 5.5918 - val_accuracy: 0.3396\n",
      "Epoch 19/25\n",
      "100/100 [==============================] - 93s 936ms/step - loss: 0.0230 - accuracy: 0.9912 - val_loss: 4.3044 - val_accuracy: 0.3760\n",
      "Epoch 20/25\n",
      "100/100 [==============================] - 96s 966ms/step - loss: 0.0212 - accuracy: 0.9937 - val_loss: 5.7987 - val_accuracy: 0.3292\n",
      "Epoch 21/25\n",
      "100/100 [==============================] - 96s 970ms/step - loss: 0.0124 - accuracy: 0.9956 - val_loss: 5.7351 - val_accuracy: 0.3865\n",
      "Epoch 22/25\n",
      "100/100 [==============================] - 97s 972ms/step - loss: 0.0530 - accuracy: 0.9819 - val_loss: 6.2676 - val_accuracy: 0.3187\n",
      "Epoch 23/25\n",
      "100/100 [==============================] - 98s 989ms/step - loss: 0.0483 - accuracy: 0.9825 - val_loss: 5.4551 - val_accuracy: 0.3677\n",
      "Epoch 24/25\n",
      "100/100 [==============================] - 98s 988ms/step - loss: 0.0438 - accuracy: 0.9869 - val_loss: 8.2732 - val_accuracy: 0.3552\n",
      "Epoch 25/25\n",
      "100/100 [==============================] - 97s 979ms/step - loss: 0.0610 - accuracy: 0.9794 - val_loss: 4.4525 - val_accuracy: 0.3510\n"
     ]
    },
    {
     "data": {
      "image/png": "[encoded data removed]",
      "text/plain": [
       "<Figure size 1400x500 with 2 Axes>"
      ]
     },
     "metadata": {},
     "output_type": "display_data"
    },
    {
     "name": "stdout",
     "output_type": "stream",
     "text": [
      "30/30 [==============================] - 20s 669ms/step - loss: 4.5484 - accuracy: 0.3490\n",
      "Test Loss: 4.5484, Test Accuracy: 34.90%\n",
      "1/1 [==============================] - 0s 144ms/step\n",
      "1/1 [==============================] - 0s 82ms/step\n",
      "1/1 [==============================] - 0s 81ms/step\n",
      "1/1 [==============================] - 0s 76ms/step\n",
      "1/1 [==============================] - 0s 71ms/step\n",
      "1/1 [==============================] - 0s 92ms/step\n",
      "1/1 [==============================] - 0s 78ms/step\n",
      "1/1 [==============================] - 0s 75ms/step\n",
      "1/1 [==============================] - 0s 79ms/step\n",
      "1/1 [==============================] - 0s 102ms/step\n",
      "1/1 [==============================] - 0s 92ms/step\n",
      "1/1 [==============================] - 0s 81ms/step\n",
      "1/1 [==============================] - 0s 86ms/step\n",
      "1/1 [==============================] - 0s 119ms/step\n",
      "1/1 [==============================] - 0s 131ms/step\n",
      "1/1 [==============================] - 0s 112ms/step\n",
      "1/1 [==============================] - 0s 87ms/step\n",
      "1/1 [==============================] - 0s 86ms/step\n",
      "1/1 [==============================] - 0s 76ms/step\n",
      "1/1 [==============================] - 0s 76ms/step\n",
      "1/1 [==============================] - 0s 79ms/step\n",
      "1/1 [==============================] - 0s 95ms/step\n",
      "1/1 [==============================] - 0s 60ms/step\n",
      "1/1 [==============================] - 0s 80ms/step\n",
      "1/1 [==============================] - 0s 71ms/step\n",
      "1/1 [==============================] - 0s 80ms/step\n",
      "1/1 [==============================] - 0s 95ms/step\n",
      "1/1 [==============================] - 0s 67ms/step\n",
      "1/1 [==============================] - 0s 80ms/step\n",
      "1/1 [==============================] - 0s 86ms/step\n"
     ]
    },
    {
     "data": {
      "image/png": "[encoded data removed]",
      "text/plain": [
       "<Figure size 1000x700 with 2 Axes>"
      ]
     },
     "metadata": {},
     "output_type": "display_data"
    },
    {
     "name": "stdout",
     "output_type": "stream",
     "text": [
      "              precision    recall  f1-score   support\n",
      "\n",
      "       Angry       0.33      0.35      0.34       170\n",
      "        Fear       0.45      0.23      0.30       181\n",
      "       Happy       0.42      0.56      0.48       174\n",
      "         Sad       0.25      0.20      0.22       169\n",
      "    Surprise       0.39      0.46      0.42       175\n",
      "     Neutral       0.20      0.24      0.22        91\n",
      "\n",
      "    accuracy                           0.35       960\n",
      "   macro avg       0.34      0.34      0.33       960\n",
      "weighted avg       0.35      0.35      0.34       960\n",
      "\n"
     ]
    }
   ],
   "source": [
    "import tensorflow as tf\n",
    "import librosa\n",
    "import numpy as np\n",
    "import os\n",
    "import matplotlib.pyplot as plt\n",
    "from tensorflow.keras.models import Sequential\n",
    "from tensorflow.keras.layers import Conv2D, MaxPooling2D, Flatten, Dense, Dropout\n",
    "from sklearn.metrics import confusion_matrix, classification_report\n",
    "import seaborn as sns\n",
    "\n",
    "\n",
    "# ================================\n",
    "# 1. CẤU HÌNH & TIỀN XỬ LÝ ÂM THANH\n",
    "# ================================\n",
    "\n",
    "AUDIO_SAMPLE_RATE = 22050   # Số mẫu âm thanh mỗi giây\n",
    "AUDIO_DURATION = 3          # Thời lượng âm thanh (giây)\n",
    "MFCC_FEATURES = 40          # Số lượng đặc trưng MFCC\n",
    "BATCH_SIZE = 32\n",
    "\n",
    "def preprocess_audio(file_path):\n",
    "    \"\"\"Hàm xử lý âm thanh, trích xuất đặc trưng MFCC.\"\"\"\n",
    "    audio, sr = librosa.load(file_path, sr=AUDIO_SAMPLE_RATE, duration=AUDIO_DURATION)\n",
    "    mfcc = librosa.feature.mfcc(y=audio, sr=sr, n_mfcc=MFCC_FEATURES)\n",
    "\n",
    "    target_width = int(AUDIO_SAMPLE_RATE * AUDIO_DURATION // 512)\n",
    "    if mfcc.shape[1] < target_width:\n",
    "        padded = np.zeros((MFCC_FEATURES, target_width))\n",
    "        padded[:, :mfcc.shape[1]] = mfcc\n",
    "    else:\n",
    "        padded = mfcc[:, :target_width]\n",
    "    return padded[..., np.newaxis]  # Thêm chiều kênh\n",
    "\n",
    "# ==========================\n",
    "# 2. VISUALIZE SAMPLE AUDIO\n",
    "# ==========================\n",
    "def visualize_audio(file_path):\n",
    "    \"\"\"Hiển thị sóng âm thanh và biểu đồ MFCC.\"\"\"\n",
    "    audio, sr = librosa.load(file_path, sr=AUDIO_SAMPLE_RATE, duration=AUDIO_DURATION)\n",
    "    mfcc = librosa.feature.mfcc(y=audio, sr=sr, n_mfcc=MFCC_FEATURES)\n",
    "\n",
    "    plt.figure(figsize=(12, 5))\n",
    "\n",
    "    # Biểu đồ sóng âm thanh\n",
    "    plt.subplot(1, 2, 1)\n",
    "    librosa.display.waveshow(audio, sr=sr)\n",
    "    plt.title(\"Waveform\")\n",
    "    plt.xlabel(\"Time (s)\")\n",
    "    plt.ylabel(\"Amplitude\")\n",
    "\n",
    "    # Biểu đồ MFCC\n",
    "    plt.subplot(1, 2, 2)\n",
    "    librosa.display.specshow(mfcc, sr=sr, x_axis='time', cmap='viridis')\n",
    "    plt.title(\"MFCC Features\")\n",
    "    plt.xlabel(\"Time (s)\")\n",
    "    plt.ylabel(\"MFCC Coefficients\")\n",
    "    plt.colorbar(format=\"%+2.f\")\n",
    "    plt.tight_layout()\n",
    "    plt.show()\n",
    "\n",
    "# ============================\n",
    "# 3. GENERATOR ĐỌC DỮ LIỆU\n",
    "# ============================\n",
    "def audio_data_generator(directory, batch_size):\n",
    "    \"\"\"Trình tạo dữ liệu từ thư mục.\"\"\"\n",
    "    label_map = {'Angry': 0, 'Fear': 1, 'Happy': 2, 'Sad': 3, 'Surprise': 4, 'Neutral': 5}\n",
    "    while True:\n",
    "        filepaths, labels = [], []\n",
    "        for subdir in os.listdir(directory):\n",
    "            subdir_path = os.path.join(directory, subdir)\n",
    "            for fname in os.listdir(subdir_path):\n",
    "                if fname.endswith('.wav'):\n",
    "                    filepaths.append(os.path.join(subdir_path, fname))\n",
    "                    labels.append(label_map[subdir])\n",
    "\n",
    "        combined = list(zip(filepaths, labels))\n",
    "        np.random.shuffle(combined)\n",
    "        filepaths, labels = zip(*combined)\n",
    "\n",
    "        for i in range(0, len(filepaths), batch_size):\n",
    "            batch_files = filepaths[i:i + batch_size]\n",
    "            batch_data = [preprocess_audio(f) for f in batch_files]\n",
    "            batch_labels = [labels[j] for j in range(i, min(i + batch_size, len(labels)))]\n",
    "            if len(batch_labels) < batch_size:\n",
    "                continue\n",
    "            yield np.array(batch_data), tf.keras.utils.to_categorical(batch_labels, 6)\n",
    "\n",
    "# ==================\n",
    "# 4. XÂY DỰNG MÔ HÌNH\n",
    "# ==================\n",
    "model_audio = Sequential([\n",
    "    Conv2D(32, (3, 3), activation='relu', input_shape=(MFCC_FEATURES, 129, 1)),\n",
    "    MaxPooling2D(2, 2),\n",
    "    Conv2D(64, (3, 3), activation='relu'),\n",
    "    MaxPooling2D(2, 2),\n",
    "    Flatten(),\n",
    "    Dense(128, activation='relu'),\n",
    "    Dropout(0.5),\n",
    "    Dense(6, activation='softmax')  # 6 lớp tương ứng với 6 cảm xúc\n",
    "])\n",
    "\n",
    "model_audio.compile(optimizer='adam', loss='categorical_crossentropy', metrics=['accuracy'])\n",
    "\n",
    "# ============================\n",
    "# 5. HUẤN LUYỆN MÔ HÌNH CNN\n",
    "# ============================\n",
    "train_audio_gen = audio_data_generator('/content/drive/MyDrive/Colab Notebooks/Dataset/Train-RAVDESS', BATCH_SIZE)\n",
    "val_audio_gen = audio_data_generator('/content/drive/MyDrive/Colab Notebooks/Dataset/Test-RAVDESS', BATCH_SIZE)\n",
    "\n",
    "history = model_audio.fit(\n",
    "    train_audio_gen,\n",
    "    steps_per_epoch=100,\n",
    "    validation_data=val_audio_gen,\n",
    "    validation_steps=30,\n",
    "    epochs=25\n",
    ")\n",
    "\n",
    "# Lưu mô hình\n",
    "model_audio.save('emotion_audio_model.keras')\n",
    "\n",
    "# ==========================\n",
    "# 6. VẼ BIỂU ĐỒ LOSS & ACCURACY\n",
    "# ==========================\n",
    "def plot_history(history):\n",
    "    epochs = range(1, len(history.history['loss']) + 1)\n",
    "\n",
    "    plt.figure(figsize=(14, 5))\n",
    "\n",
    "    plt.subplot(1, 2, 1)\n",
    "    plt.plot(epochs, history.history['loss'], label='Training Loss')\n",
    "    plt.plot(epochs, history.history['val_loss'], label='Validation Loss')\n",
    "    plt.title('Loss over Epochs')\n",
    "    plt.xlabel('Epoch')\n",
    "    plt.ylabel('Loss')\n",
    "    plt.legend()\n",
    "    plt.grid(True)\n",
    "\n",
    "    plt.subplot(1, 2, 2)\n",
    "    plt.plot(epochs, history.history['accuracy'], label='Training Accuracy')\n",
    "    plt.plot(epochs, history.history['val_accuracy'], label='Validation Accuracy')\n",
    "    plt.title('Accuracy over Epochs')\n",
    "    plt.xlabel('Epoch')\n",
    "    plt.ylabel('Accuracy')\n",
    "    plt.legend()\n",
    "    plt.grid(True)\n",
    "\n",
    "    plt.tight_layout()\n",
    "    plt.show()\n",
    "\n",
    "plot_history(history)\n",
    "\n",
    "# ============================\n",
    "# 7. ĐÁNH GIÁ MÔ HÌNH & DỰ ĐOÁN\n",
    "# ============================\n",
    "test_steps = 30\n",
    "test_loss, test_acc = model_audio.evaluate(val_audio_gen, steps=test_steps)\n",
    "print(f\"Test Loss: {test_loss:.4f}, Test Accuracy: {test_acc * 100:.2f}%\")\n",
    "\n",
    "# Ma trận nhầm lẫn\n",
    "predictions = []\n",
    "validation_labels = []\n",
    "\n",
    "for _ in range(test_steps):\n",
    "    x_val, y_val = next(val_audio_gen)\n",
    "    preds = model_audio.predict(x_val)\n",
    "    predicted_classes = np.argmax(preds, axis=1)\n",
    "\n",
    "    predictions.extend(predicted_classes)\n",
    "    validation_labels.extend(np.argmax(y_val, axis=1))\n",
    "\n",
    "cm = confusion_matrix(validation_labels, predictions)\n",
    "\n",
    "# Vẽ ma trận nhầm lẫn\n",
    "plt.figure(figsize=(10, 7))\n",
    "sns.heatmap(cm, annot=True, fmt='d', cmap='Blues', xticklabels=['Angry', 'Fear', 'Happy', 'Sad', 'Surprise', 'Neutral'],\n",
    "            yticklabels=['Angry', 'Fear', 'Happy', 'Sad', 'Surprise', 'Neutral'])\n",
    "plt.xlabel('Predicted')\n",
    "plt.ylabel('True')\n",
    "plt.title('Confusion Matrix')\n",
    "plt.show()\n",
    "\n",
    "# Báo cáo phân loại\n",
    "print(classification_report(validation_labels, predictions, target_names=['Angry', 'Fear', 'Happy', 'Sad', 'Surprise', 'Neutral']))\n"
   ]
  }
 ],
 "metadata": {
  "accelerator": "GPU",
  "colab": {
   "gpuType": "T4",
   "provenance": []
  },
  "kernelspec": {
   "display_name": "Python 3",
   "name": "python3"
  },
  "language_info": {
   "name": "python"
  }
 },
 "nbformat": 4,
 "nbformat_minor": 0
}
